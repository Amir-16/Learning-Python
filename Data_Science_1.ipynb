{
  "nbformat": 4,
  "nbformat_minor": 0,
  "metadata": {
    "colab": {
      "name": "Data_Science_1.ipynb",
      "provenance": [],
      "collapsed_sections": [],
      "toc_visible": true,
      "authorship_tag": "ABX9TyOeLrbhIh56/QkwjP9w5jhQ",
      "include_colab_link": true
    },
    "kernelspec": {
      "name": "python3",
      "display_name": "Python 3"
    }
  },
  "cells": [
    {
      "cell_type": "markdown",
      "metadata": {
        "id": "view-in-github",
        "colab_type": "text"
      },
      "source": [
        "<a href=\"https://colab.research.google.com/github/Amir-16/pythonPractice/blob/master/Data_Science_1.ipynb\" target=\"_parent\"><img src=\"https://colab.research.google.com/assets/colab-badge.svg\" alt=\"Open In Colab\"/></a>"
      ]
    },
    {
      "cell_type": "code",
      "metadata": {
        "colab": {
          "base_uri": "https://localhost:8080/"
        },
        "id": "SESo5OtQ-Hwi",
        "outputId": "ee26cf78-d740-469e-e4be-292e993bc003"
      },
      "source": [
        "print('hello world learing Data Science')\r\n",
        "print('data science is fun')"
      ],
      "execution_count": 1,
      "outputs": [
        {
          "output_type": "stream",
          "text": [
            "hello world learing Data Science\n",
            "data science is fun\n"
          ],
          "name": "stdout"
        }
      ]
    },
    {
      "cell_type": "code",
      "metadata": {
        "colab": {
          "base_uri": "https://localhost:8080/"
        },
        "id": "1eL9SsnWgVkm",
        "outputId": "15690857-2f6e-4ab2-8fb7-0065c7e73351"
      },
      "source": [
        "b= 4.56\r\n",
        "a=2\r\n",
        "j =4.2323\r\n",
        "\r\n",
        "cross =b* a * j\r\n",
        "print(cross)"
      ],
      "execution_count": 2,
      "outputs": [
        {
          "output_type": "stream",
          "text": [
            "38.598576\n"
          ],
          "name": "stdout"
        }
      ]
    },
    {
      "cell_type": "code",
      "metadata": {
        "colab": {
          "base_uri": "https://localhost:8080/"
        },
        "id": "YPIiFGqqgap2",
        "outputId": "3203381b-11cb-4c54-f42a-30fdc064af8b"
      },
      "source": [
        "name =\"Amir\"\r\n",
        "name1 =\"Islam\"\r\n",
        "\r\n",
        "add =name + name1\r\n",
        "print(add)"
      ],
      "execution_count": 3,
      "outputs": [
        {
          "output_type": "stream",
          "text": [
            "AmirIslam\n"
          ],
          "name": "stdout"
        }
      ]
    }
  ]
}