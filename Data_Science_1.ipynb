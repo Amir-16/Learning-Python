{
  "nbformat": 4,
  "nbformat_minor": 0,
  "metadata": {
    "colab": {
      "name": "Data_Science_1.ipynb",
      "provenance": [],
      "collapsed_sections": [],
      "toc_visible": true,
      "authorship_tag": "ABX9TyMnwHzFtiuqZ6UbQb4XVF36",
      "include_colab_link": true
    },
    "kernelspec": {
      "name": "python3",
      "display_name": "Python 3"
    }
  },
  "cells": [
    {
      "cell_type": "markdown",
      "metadata": {
        "id": "view-in-github",
        "colab_type": "text"
      },
      "source": [
        "<a href=\"https://colab.research.google.com/github/Amir-16/pythonPractice/blob/master/Data_Science_1.ipynb\" target=\"_parent\"><img src=\"https://colab.research.google.com/assets/colab-badge.svg\" alt=\"Open In Colab\"/></a>"
      ]
    },
    {
      "cell_type": "code",
      "metadata": {
        "colab": {
          "base_uri": "https://localhost:8080/"
        },
        "id": "SESo5OtQ-Hwi",
        "outputId": "ee26cf78-d740-469e-e4be-292e993bc003"
      },
      "source": [
        "print('hello world learing Data Science')\r\n",
        "print('data science is fun')"
      ],
      "execution_count": 1,
      "outputs": [
        {
          "output_type": "stream",
          "text": [
            "hello world learing Data Science\n",
            "data science is fun\n"
          ],
          "name": "stdout"
        }
      ]
    },
    {
      "cell_type": "code",
      "metadata": {
        "colab": {
          "base_uri": "https://localhost:8080/"
        },
        "id": "1eL9SsnWgVkm",
        "outputId": "15690857-2f6e-4ab2-8fb7-0065c7e73351"
      },
      "source": [
        "b= 4.56\r\n",
        "a=2\r\n",
        "j =4.2323\r\n",
        "\r\n",
        "cross =b* a * j\r\n",
        "print(cross)"
      ],
      "execution_count": 2,
      "outputs": [
        {
          "output_type": "stream",
          "text": [
            "38.598576\n"
          ],
          "name": "stdout"
        }
      ]
    },
    {
      "cell_type": "code",
      "metadata": {
        "colab": {
          "base_uri": "https://localhost:8080/"
        },
        "id": "YPIiFGqqgap2",
        "outputId": "1b0c1239-abfc-4cc3-d89b-8a72bcde9953"
      },
      "source": [
        "name =\"Amirul\"\r\n",
        "name1 =\"Islam\"\r\n",
        "\r\n",
        "add =name +' '+ name1\r\n",
        "print(add)"
      ],
      "execution_count": 6,
      "outputs": [
        {
          "output_type": "stream",
          "text": [
            "Amirul Islam\n"
          ],
          "name": "stdout"
        }
      ]
    },
    {
      "cell_type": "code",
      "metadata": {
        "colab": {
          "base_uri": "https://localhost:8080/"
        },
        "id": "oc3YVvqIoFi5",
        "outputId": "e5d8fbdb-49eb-491b-b140-3ae97111a000"
      },
      "source": [
        "thislist = [\"data Science\", \"Machine Learning\", \"CoLab\"]\r\n",
        "\r\n",
        "print(thislist)\r\n"
      ],
      "execution_count": 9,
      "outputs": [
        {
          "output_type": "stream",
          "text": [
            "['data Science', 'Machine Learning', 'CoLab']\n"
          ],
          "name": "stdout"
        }
      ]
    }
  ]
}